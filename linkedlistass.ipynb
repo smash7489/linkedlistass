{
 "cells": [
  {
   "cell_type": "code",
   "execution_count": null,
   "id": "62a62149-204b-43a0-809a-b1a4f66f6500",
   "metadata": {},
   "outputs": [],
   "source": [
    "# problem 1 Reverse a singly linked list\n",
    "#Input: 1 -> 2 -> 3 -> 4 -> 5\n",
    "#Output: 5 -> 4 -> 3 -> 2 -> 1"
   ]
  },
  {
   "cell_type": "code",
   "execution_count": 20,
   "id": "e8b8317b-f6ab-4d28-b084-36e46aa284d0",
   "metadata": {},
   "outputs": [],
   "source": [
    "class Node:\n",
    "    def __init__(self,data):\n",
    "        self.data = data\n",
    "        self.next = None\n",
    "        \n",
    "    \n",
    "\n",
    "\n",
    "node1 = Node(1)\n",
    "node2 = Node(2)\n",
    "node3 = Node(3)\n",
    "node4 = Node(4)\n",
    "node5 = Node(5)\n",
    "\n",
    "node1.next = node2\n",
    "node2.next = node3\n",
    "node3.next = node4\n",
    "node4.next = node5\n",
    "\n",
    "\n",
    "\n",
    "\n",
    "\n",
    "    "
   ]
  },
  {
   "cell_type": "code",
   "execution_count": 22,
   "id": "a0d51cbe-c18b-479d-9463-96c4a7de9393",
   "metadata": {},
   "outputs": [],
   "source": [
    "def reverseLL(head):\n",
    "    prev = None\n",
    "    current = head\n",
    "    while current is  not None:\n",
    "        next_node = current.next\n",
    "        current.next = prev\n",
    "        prev = current\n",
    "        current = next_node\n",
    "    return prev"
   ]
  },
  {
   "cell_type": "code",
   "execution_count": 23,
   "id": "c4bcf2b3-3388-4ad0-b093-c3fa11506647",
   "metadata": {},
   "outputs": [
    {
     "data": {
      "text/plain": [
       "<__main__.Node at 0x189e0a2c9e0>"
      ]
     },
     "execution_count": 23,
     "metadata": {},
     "output_type": "execute_result"
    }
   ],
   "source": [
    "reverseLL(node1)"
   ]
  },
  {
   "cell_type": "code",
   "execution_count": null,
   "id": "e035733d-91df-4e6d-a0a1-bf1a718a0002",
   "metadata": {},
   "outputs": [],
   "source": []
  },
  {
   "cell_type": "code",
   "execution_count": 18,
   "id": "d7de94f8-2eed-4d32-8db2-882b585c788c",
   "metadata": {},
   "outputs": [],
   "source": [
    "def traverse(head):\n",
    "        currentNode = head\n",
    "        while currentNode:\n",
    "            print(currentNode.data,end = \"->\")\n",
    "            currentNode = currentNode.next\n",
    "        print(\"null\")"
   ]
  },
  {
   "cell_type": "code",
   "execution_count": 24,
   "id": "7df70b17-dc47-4927-8e63-7228e6ac41d6",
   "metadata": {},
   "outputs": [
    {
     "name": "stdout",
     "output_type": "stream",
     "text": [
      "1->null\n"
     ]
    }
   ],
   "source": [
    "traverse(node1)"
   ]
  },
  {
   "cell_type": "code",
   "execution_count": 25,
   "id": "45a05115-55d6-4f76-b4ec-2a3730d7d10f",
   "metadata": {},
   "outputs": [],
   "source": [
    "# Node class to define list structure\n",
    "class Node:\n",
    "    def __init__(self, data):\n",
    "        self.data = data\n",
    "        self.next = None\n",
    "\n",
    "# Function to reverse the linked list and return new head\n",
    "def reverseList(head: Node) -> Node:\n",
    "    prev = None              # Tracks the previous node (initially none)\n",
    "    current = head           # Starts at the head of the original list\n",
    "\n",
    "    while current is not None:\n",
    "        next_node = current.next   # ① Save next node\n",
    "        current.next = prev        # ② Reverse current node's pointer\n",
    "        prev = current             # ③ Shift prev to current\n",
    "        current = next_node        # ④ Move current forward\n",
    "    \n",
    "    return prev  # ⑤ 'prev' is now the head of the reversed list\n"
   ]
  },
  {
   "cell_type": "code",
   "execution_count": 26,
   "id": "0eb3ccdf-98c7-4b6f-94dc-dcea216456e7",
   "metadata": {},
   "outputs": [
    {
     "name": "stdout",
     "output_type": "stream",
     "text": [
      "Original list:\n",
      "1 → 2 → 3 → 4 → 5\n",
      "Reversed list:\n",
      "5 → 4 → 3 → 2 → 1\n"
     ]
    }
   ],
   "source": [
    "# Set up the list: 1 → 2 → 3 → 4 → 5\n",
    "head = Node(1)\n",
    "curr = head\n",
    "for v in [2, 3, 4, 5]:\n",
    "    curr.next = Node(v)\n",
    "    curr = curr.next\n",
    "\n",
    "# Function to print the list\n",
    "def printList(node):\n",
    "    while node:\n",
    "        print(node.data, end=\" → \" if node.next else \"\")\n",
    "        node = node.next\n",
    "    print()\n",
    "\n",
    "print(\"Original list:\")\n",
    "printList(head)\n",
    "\n",
    "# Reverse it\n",
    "head = reverseList(head)\n",
    "\n",
    "print(\"Reversed list:\")\n",
    "printList(head)\n"
   ]
  },
  {
   "cell_type": "code",
   "execution_count": 27,
   "id": "32c35faf-41b9-4e91-8552-5a9304248b03",
   "metadata": {},
   "outputs": [
    {
     "data": {
      "text/plain": [
       "<__main__.Node at 0x189e076c3e0>"
      ]
     },
     "execution_count": 27,
     "metadata": {},
     "output_type": "execute_result"
    }
   ],
   "source": [
    "reverseList(head)"
   ]
  },
  {
   "cell_type": "code",
   "execution_count": 30,
   "id": "d5c8d177-72ef-44c8-9f74-22c9e185e914",
   "metadata": {},
   "outputs": [],
   "source": [
    "#Problem 2: Merge two sorted linked lists into one sorted linked list.\n",
    "\"\"\"Input: List 1: 1 -> 3 -> 5, List 2: 2 -> 4 -> 6\n",
    "Output: 1 -> 2 -> 3 -> 4 -> 5 -> 6\"\"\"\n",
    "\n",
    "\n",
    "\n",
    "class Node:\n",
    "    def __init__(self,data:int):\n",
    "        self.data = data\n",
    "        self.next = None\n",
    "\n",
    "def mergell(l1,l2):\n",
    "    dummy = Node(-1)\n",
    "    tail = dummy\n",
    "    while l1 and l2:\n",
    "        if l1.data <= l2.data:\n",
    "            tail.next = l1\n",
    "            l1 = l1.next\n",
    "        else:\n",
    "            tail.next = l2\n",
    "            l2 = l2.next\n",
    "        tail = tail.next \n",
    "    tail.next = l1 if l1 else l2\n",
    "    return dummy.next"
   ]
  },
  {
   "cell_type": "code",
   "execution_count": 31,
   "id": "6d9341fa-fb75-4359-991c-250bf50df439",
   "metadata": {},
   "outputs": [
    {
     "name": "stdout",
     "output_type": "stream",
     "text": [
      "1->2->3->4->5->6"
     ]
    }
   ],
   "source": [
    "l1 = Node(1)\n",
    "l1.next = Node(3)\n",
    "l1.next.next = Node(5)\n",
    "\n",
    "l2 = Node(2)\n",
    "l2.next = Node(4)\n",
    "l2.next.next = Node(6)\n",
    "\n",
    "merged = mergell(l1,l2)\n",
    "curr = merged\n",
    "while curr:\n",
    "    print(curr.data,end = \"->\"if curr.next else\"\")\n",
    "    curr = curr.next\n",
    "\n"
   ]
  },
  {
   "cell_type": "code",
   "execution_count": 32,
   "id": "85426f42-65a9-4b61-b845-f58e79405055",
   "metadata": {},
   "outputs": [],
   "source": [
    "# Problem 3: Remove the nth node from the end of a linked list.\n",
    "\n",
    "\"\"\"Input: 1 -> 2 -> 3 -> 4 -> 5, n = 2\n",
    "Output: 1 -> 2 -> 3 -> 5\"\"\"\n",
    "\n",
    "class Node:\n",
    "    def __init__(self,data):\n",
    "        self.data = data\n",
    "        self.next = None\n",
    "\n",
    "def remove_nth(head,n):\n",
    "    dummy = Node(0)\n",
    "    dummy.next = head\n",
    "    fast = slow = dummy\n",
    "    for i in range(n):\n",
    "        fast = fast.next\n",
    "    while fast.next:\n",
    "        fast = fast.next\n",
    "        slow = slow.next\n",
    "    slow.next = slow.next.next\n",
    "\n",
    "    return dummy.next"
   ]
  },
  {
   "cell_type": "code",
   "execution_count": 42,
   "id": "47862d10-d068-4fa4-86a8-1437a97a2238",
   "metadata": {},
   "outputs": [
    {
     "name": "stdout",
     "output_type": "stream",
     "text": [
      "before not removing any nth node\n",
      "1->2->3->4->5->null\n",
      "After not removing any nth node\n",
      "1->2->3->5->null\n"
     ]
    }
   ],
   "source": [
    "node1 = Node(1)\n",
    "node2 = Node(2)\n",
    "node3 = Node(3)\n",
    "node4 = Node(4)\n",
    "node5 = Node(5)\n",
    "node1.next = node2\n",
    "node2.next = node3\n",
    "node3.next = node4\n",
    "node4.next = node5\n",
    "\n",
    "def traversell(head):\n",
    "    currentNode = head\n",
    "    while currentNode:\n",
    "        print(currentNode.data,end= \"->\")\n",
    "        currentNode = currentNode.next\n",
    "    print(\"null\")\n",
    "print(\"before not removing any nth node\")\n",
    "traversell(node1)\n",
    "\n",
    "print(\"After not removing any nth node\")\n",
    "remove_nth(node1,2)\n",
    "traversell(node1)\n"
   ]
  },
  {
   "cell_type": "code",
   "execution_count": 34,
   "id": "a247fbba-72f4-4714-8c1f-224f042a232a",
   "metadata": {},
   "outputs": [
    {
     "name": "stdout",
     "output_type": "stream",
     "text": [
      "1->2->3->4->5->null\n"
     ]
    }
   ],
   "source": [
    "traversell(node1)"
   ]
  },
  {
   "cell_type": "code",
   "execution_count": null,
   "id": "31296483-67e3-4828-a7db-03a1ff464646",
   "metadata": {},
   "outputs": [],
   "source": [
    "removenth"
   ]
  },
  {
   "cell_type": "code",
   "execution_count": 49,
   "id": "9bddcada-365b-4958-b22b-8f74f4d66d37",
   "metadata": {},
   "outputs": [
    {
     "name": "stdout",
     "output_type": "stream",
     "text": [
      "3\n"
     ]
    }
   ],
   "source": [
    "# Problem 4: Find the intersection point of two linked lists.\n",
    "\"\"\"Input: List 1: 1 -> 2 -> 3 -> 4, List 2: 9 -> 8 -> 3 -> 4\n",
    "Output: Node with value 3\"\"\"\n",
    "\n",
    "\n",
    "class Node:\n",
    "    def __init__(self,data):\n",
    "        self.data = data\n",
    "        self.next = None\n",
    "\n",
    "def get_intersection(headA,headB):\n",
    "    a,b = headA,headB\n",
    "    while a is not b:\n",
    "        a = a.next if a else headB\n",
    "        b = b.next if b else headA\n",
    "    return a\n",
    "\n",
    "\n",
    "shared = Node(3)\n",
    "shared.next = Node(4)\n",
    "\n",
    "node1 = Node(1)\n",
    "node1.next = Node(2)\n",
    "node1.next.next = shared\n",
    "node2 = Node(9)\n",
    "node2.next = Node(8)\n",
    "node2.next.next = shared\n",
    "\n",
    "\n",
    "result = get_intersection(node1,node2)\n",
    "print(result.data if result else \"No intersection\")\n"
   ]
  },
  {
   "cell_type": "code",
   "execution_count": 57,
   "id": "30d64a7d-0828-433e-ba99-423b9aa4b1be",
   "metadata": {},
   "outputs": [
    {
     "name": "stdout",
     "output_type": "stream",
     "text": [
      "1->1->2->3->3->3->null\n",
      "1->2->3->null\n"
     ]
    }
   ],
   "source": [
    "#Problem 5: Remove duplicates from a sorted linked list.\n",
    "\"\"\"Input: 1 -> 1 -> 2 -> 3 -> 3\n",
    "Output: 1 -> 2 -> 3\"\"\"\n",
    "\n",
    "class Node:\n",
    "    def __init__(self,data):\n",
    "        self.data = data\n",
    "        self.next = None\n",
    "\n",
    "def removeduplicates(head):\n",
    "    curr = head\n",
    "    while curr and curr.next:\n",
    "        if curr.data == curr.next.data:\n",
    "            curr.next = curr.next.next\n",
    "        else:\n",
    "            curr = curr.next\n",
    "    return head\n",
    "\n",
    "\n",
    "\n",
    "head = Node(1)\n",
    "head.next = Node(1)\n",
    "head.next.next = Node(2)\n",
    "head.next.next.next = Node(3)\n",
    "head.next.next.next.next = Node(3)\n",
    "head.next.next.next.next.next = Node(3)\n",
    "\n",
    "traversell(head)\n",
    "\n",
    "cur = removeduplicates(head)\n",
    "\n",
    "traversell(cur)\n",
    "\n"
   ]
  },
  {
   "cell_type": "code",
   "execution_count": null,
   "id": "93650ca6-3967-4f59-8b20-b7cfd90e2252",
   "metadata": {},
   "outputs": [],
   "source": [
    "#Problem 6: Add two numbers represented by linked lists (where each node contains a single digit).\n",
    "\n",
    "\"\"\"Input: List 1: 2 -> 4 -> 3, List 2: 5 -> 6 -> 4 (represents 342 + 465)\n",
    "Output: 7 -> 0 -> 8 (represents 807)\"\"\"\n",
    "\n",
    "class Node:\n",
    "    def __init__(self, data: int):\n",
    "        self.data = data\n",
    "        self.next = None\n",
    "\n",
    "def add_two_numbers(l1: Node, l2: Node) -> Node:\n",
    "    dummy = Node(0)     # ① Dummy node to simplify list building\n",
    "    current = dummy     # ② Pointer to build the resulting list\n",
    "    carry = 0           # ③ Initialize carry to 0\n",
    "\n",
    "    # ④ Loop until both lists are exhausted and no carry remains\n",
    "    while l1 or l2 or carry:\n",
    "        x = l1.data if l1 else 0\n",
    "        y = l2.data if l2 else 0\n",
    "\n",
    "        total = x + y + carry\n",
    "        carry = total // 10\n",
    "        current.next = Node(total % 10)  # ⑤ Append digit node\n",
    "        current = current.next          # Move forward\n",
    "\n",
    "        # Move l1 and l2 forward if possible\n",
    "        if l1: l1 = l1.next\n",
    "        if l2: l2 = l2.next\n",
    "\n",
    "    return dummy.next  # ⑥ Skip dummy to return the real result head\n",
    "\n",
    "\n"
   ]
  },
  {
   "cell_type": "code",
   "execution_count": 58,
   "id": "a67e5260-45b0-43c5-8fd4-ce514791a3fd",
   "metadata": {},
   "outputs": [],
   "source": [
    "\"\"\"Problem 7: Swap nodes in pairs in a linked list.\n",
    "Input: 1 -> 2 -> 3 -> 4\n",
    "Output: 2 -> 1 -> 4 -> 3\"\"\"\n",
    "\n",
    "class Node:\n",
    "    def __init__(self, data: int):\n",
    "        self.data = data\n",
    "        self.next = None\n",
    "\n",
    "def swap_pairs(head: Node) -> Node:\n",
    "    dummy = Node(0)          # ➤ Create a dummy node before the head\n",
    "    dummy.next = head\n",
    "    prev = dummy             # ➤ ‘prev’ trails the pair to be swapped\n",
    "\n",
    "    # ➤ As long as there are two more nodes to swap...\n",
    "    while prev.next and prev.next.next:\n",
    "        first = prev.next\n",
    "        second = first.next\n",
    "\n",
    "        # 🔁 Perform the swap by pointer reassignment\n",
    "        prev.next, second.next, first.next = second, first, second.next\n",
    "\n",
    "        # ➤ Move 'prev' ahead two nodes—ready for the next pair\n",
    "        prev = first\n",
    "\n",
    "    return dummy.next       # ➤ Return the new head (after dummy)\n"
   ]
  },
  {
   "cell_type": "code",
   "execution_count": 59,
   "id": "c5dadead-4c19-447c-9b33-98a12aeb7742",
   "metadata": {},
   "outputs": [],
   "source": [
    "\"\"\"Problem 8: Reverse nodes in a linked list in groups of k.\n",
    "Input: 1 -> 2 -> 3 -> 4 -> 5, k = 3\n",
    "Output: 3 -> 2 -> 1 -> 4 -> 5\"\"\"\n",
    "\n",
    "class Node:\n",
    "    def __init__(self, data: int):\n",
    "        self.data = data\n",
    "        self.next = None\n",
    "\n",
    "def reverse_first_k(head: Node, k: int) -> Node:\n",
    "    if not head or k <= 1:\n",
    "        return head\n",
    "\n",
    "    # 1️⃣ Traverse to the K-th node to split the list\n",
    "    curr = head\n",
    "    count = 1\n",
    "    while count < k and curr:\n",
    "        curr = curr.next\n",
    "        count += 1\n",
    "\n",
    "    if not curr:\n",
    "        # Fewer than k nodes: reverse the entire list\n",
    "        return reverse_entire(head)\n",
    "\n",
    "    # Break the list into two parts\n",
    "    next_part = curr.next\n",
    "    curr.next = None\n",
    "\n",
    "    # 2️⃣ Reverse the first segment\n",
    "    new_head = reverse_entire(head)\n",
    "\n",
    "    # 3️⃣ Connect the reversed segment with the remaining list\n",
    "    head.next = next_part\n",
    "\n",
    "    return new_head\n",
    "\n",
    "def reverse_entire(node: Node) -> Node:\n",
    "    prev = None\n",
    "    curr = node\n",
    "    while curr:\n",
    "        nxt = curr.next\n",
    "        curr.next = prev\n",
    "        prev = curr\n",
    "        curr = nxt\n",
    "    return prev\n"
   ]
  },
  {
   "cell_type": "code",
   "execution_count": 60,
   "id": "a35a86a8-395b-41cd-a19c-82c20158b5b7",
   "metadata": {},
   "outputs": [],
   "source": [
    "#Problem 9: Determine if a linked list is a palindrome.\n",
    "\"\"\"Input: 1 -> 2 -> 2 -> 1\n",
    "Output: True\"\"\"\n",
    "\n",
    "class Node:\n",
    "    def __init__(self, data: int):\n",
    "        self.data = data\n",
    "        self.next = None\n",
    "\n",
    "def is_palindrome(head: Node) -> bool:\n",
    "    if not head or not head.next:\n",
    "        return True\n",
    "\n",
    "    # Step 1: Find the middle with fast & slow pointers\n",
    "    slow = fast = head\n",
    "    while fast and fast.next:\n",
    "        slow = slow.next\n",
    "        fast = fast.next.next\n",
    "\n",
    "    # Step 2: Reverse the second half\n",
    "    prev, curr = None, slow\n",
    "    while curr:\n",
    "        nxt = curr.next\n",
    "        curr.next = prev\n",
    "        prev, curr = curr, nxt\n",
    "\n",
    "    # Step 3: Compare first half and reversed second half\n",
    "    left, right = head, prev\n",
    "    result = True\n",
    "    while right:\n",
    "        if left.data != right.data:\n",
    "            result = False\n",
    "            break\n",
    "        left = left.next\n",
    "        right = right.next\n",
    "\n",
    "    # (Optional) Step 4: Restore the second half to original\n",
    "    # skipped here for clarity\n",
    "\n",
    "    return result\n"
   ]
  },
  {
   "cell_type": "code",
   "execution_count": null,
   "id": "3bd0d022-8312-425a-a4d9-72a867757dcf",
   "metadata": {},
   "outputs": [],
   "source": [
    "#Problem 10: Rotate a linked list to the right by k places.\n",
    "\"\"\"Input: 1 -> 2 -> 3 -> 4 -> 5, k = 2\n",
    "Output: 4 -> 5 -> 1 -> 2 -> 3\"\"\""
   ]
  },
  {
   "cell_type": "code",
   "execution_count": null,
   "id": "4dbadcd5-0b66-48c8-aec2-0ffc626ffdbb",
   "metadata": {},
   "outputs": [],
   "source": []
  },
  {
   "cell_type": "code",
   "execution_count": null,
   "id": "850b7cd2-a0f9-4e17-983e-93220de9fa57",
   "metadata": {},
   "outputs": [],
   "source": []
  },
  {
   "cell_type": "code",
   "execution_count": null,
   "id": "bbb7e0d7-e92f-44c1-96ee-29704d7d370a",
   "metadata": {},
   "outputs": [],
   "source": []
  },
  {
   "cell_type": "code",
   "execution_count": null,
   "id": "1745bcb0-48d3-400f-8c1f-ae74777532a1",
   "metadata": {},
   "outputs": [],
   "source": []
  },
  {
   "cell_type": "code",
   "execution_count": null,
   "id": "d2070a3c-d4da-4af1-84e8-749b36e55aae",
   "metadata": {},
   "outputs": [],
   "source": []
  }
 ],
 "metadata": {
  "kernelspec": {
   "display_name": "Python 3 (ipykernel)",
   "language": "python",
   "name": "python3"
  },
  "language_info": {
   "codemirror_mode": {
    "name": "ipython",
    "version": 3
   },
   "file_extension": ".py",
   "mimetype": "text/x-python",
   "name": "python",
   "nbconvert_exporter": "python",
   "pygments_lexer": "ipython3",
   "version": "3.12.7"
  }
 },
 "nbformat": 4,
 "nbformat_minor": 5
}
